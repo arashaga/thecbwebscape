{
 "cells": [
  {
   "cell_type": "code",
   "execution_count": 23,
   "metadata": {},
   "outputs": [],
   "source": [
    "import pandas as pd\n",
    "import sqlite3\n",
    "from selenium import webdriver\n",
    "import math"
   ]
  },
  {
   "cell_type": "code",
   "execution_count": 29,
   "metadata": {},
   "outputs": [],
   "source": [
    "#testing\n",
    "driver = webdriver.Chrome(executable_path=\"c:/chromedriver.exe\")\n",
    "driver.get(\"http://www.txhighereddata.org/Interactive/CBMStatus\")"
   ]
  },
  {
   "cell_type": "code",
   "execution_count": 3,
   "metadata": {},
   "outputs": [],
   "source": [
    "#element = driver.find_element_by_name('RepCyc')"
   ]
  },
  {
   "cell_type": "code",
   "execution_count": 183,
   "metadata": {},
   "outputs": [],
   "source": []
  },
  {
   "cell_type": "code",
   "execution_count": 184,
   "metadata": {},
   "outputs": [],
   "source": []
  },
  {
   "cell_type": "code",
   "execution_count": 66,
   "metadata": {},
   "outputs": [],
   "source": [
    "def convert_date_sqilte(date):\n",
    "    d,m,y = date.split('/',3)\n",
    "    return y+'-'+m+'-'+d\n",
    "\n",
    "reporting_cycle = ['Spring','Fall/Annual','Summer/Summer I']\n",
    "CBMS = ['CBM001','CBM004','CBM008','CBM00S','CBM009','CBM0E1','CBM00B','FAD001']\n",
    "years = ['2015','2016','2017']"
   ]
  },
  {
   "cell_type": "code",
   "execution_count": 60,
   "metadata": {},
   "outputs": [
    {
     "name": "stdout",
     "output_type": "stream",
     "text": [
      "Data:  The University of Texas-Rio Grande Valley 04/06/2015 CERTIFIED\n",
      "Data:  The University of Texas of the Permian Basin 08/06/2015 CERTIFIED\n",
      "Data:  The University of Texas-Rio Grande Valley 08/06/2015 CERTIFIED\n",
      "Data:  The University of Texas at El Paso 11/05/2015 CERTIFIED\n",
      "[('reporting cycle: SpringCBM: CBM009', 'year: 2015'), ('reporting cycle: SpringCBM: CBM009', 'year: 2016'), ('reporting cycle: SpringCBM: CBM009', 'year: 2017'), ('reporting cycle: Summer/Summer ICBM: CBM009', 'year: 2015'), ('reporting cycle: Summer/Summer ICBM: CBM009', 'year: 2016'), ('reporting cycle: Summer/Summer ICBM: CBM009', 'year: 2017')]\n"
     ]
    },
    {
     "data": {
      "text/html": [
       "<div>\n",
       "<style scoped>\n",
       "    .dataframe tbody tr th:only-of-type {\n",
       "        vertical-align: middle;\n",
       "    }\n",
       "\n",
       "    .dataframe tbody tr th {\n",
       "        vertical-align: top;\n",
       "    }\n",
       "\n",
       "    .dataframe thead th {\n",
       "        text-align: right;\n",
       "    }\n",
       "</style>\n",
       "<table border=\"1\" class=\"dataframe\">\n",
       "  <thead>\n",
       "    <tr style=\"text-align: right;\">\n",
       "      <th></th>\n",
       "      <th>College</th>\n",
       "      <th>Status</th>\n",
       "      <th>Old Date</th>\n",
       "      <th>New Date</th>\n",
       "    </tr>\n",
       "  </thead>\n",
       "  <tbody>\n",
       "    <tr>\n",
       "      <th>0</th>\n",
       "      <td>The University of Texas-Rio Grande Valley</td>\n",
       "      <td>CERTIFIED</td>\n",
       "      <td>04/06/2015</td>\n",
       "      <td>2018-27-03</td>\n",
       "    </tr>\n",
       "    <tr>\n",
       "      <th>1</th>\n",
       "      <td>The University of Texas of the Permian Basin</td>\n",
       "      <td>CERTIFIED</td>\n",
       "      <td>08/06/2015</td>\n",
       "      <td>2018-23-07</td>\n",
       "    </tr>\n",
       "    <tr>\n",
       "      <th>2</th>\n",
       "      <td>The University of Texas-Rio Grande Valley</td>\n",
       "      <td>CERTIFIED</td>\n",
       "      <td>08/06/2015</td>\n",
       "      <td>2018-27-03</td>\n",
       "    </tr>\n",
       "    <tr>\n",
       "      <th>3</th>\n",
       "      <td>The University of Texas at El Paso</td>\n",
       "      <td>CERTIFIED</td>\n",
       "      <td>11/05/2015</td>\n",
       "      <td>2018-29-03</td>\n",
       "    </tr>\n",
       "  </tbody>\n",
       "</table>\n",
       "</div>"
      ],
      "text/plain": [
       "                                        College     Status    Old Date  \\\n",
       "0     The University of Texas-Rio Grande Valley  CERTIFIED  04/06/2015   \n",
       "1  The University of Texas of the Permian Basin  CERTIFIED  08/06/2015   \n",
       "2     The University of Texas-Rio Grande Valley  CERTIFIED  08/06/2015   \n",
       "3            The University of Texas at El Paso  CERTIFIED  11/05/2015   \n",
       "\n",
       "     New Date  \n",
       "0  2018-27-03  \n",
       "1  2018-23-07  \n",
       "2  2018-27-03  \n",
       "3  2018-29-03  "
      ]
     },
     "execution_count": 60,
     "metadata": {},
     "output_type": "execute_result"
    }
   ],
   "source": [
    "driver = webdriver.Chrome(executable_path=\"c:/chromedriver.exe\")\n",
    "new_df = None\n",
    "issues = []\n",
    "c = []\n",
    "d = []\n",
    "s = []\n",
    "n = []\n",
    "conn = sqlite3.connect(\"data.db\")\n",
    "cur = conn.cursor()\n",
    "for rc in reporting_cycle:\n",
    "    #query = \"//select[@name='RepCyc']/option[text()='\"+ rc+ \"']\"\n",
    "    #element=driver.find_element_by_xpath(query).click()\n",
    "    for year in years:\n",
    "        #query = \"//select[@name='RepYr']/option[text()='\"+year+\"']\"\n",
    "        #element=driver.find_element_by_xpath(query).click()\n",
    "        for cbm in CBMS:\n",
    "            driver.get(\"http://www.txhighereddata.org/Interactive/CBMStatus\")\n",
    "            query = \"//select[@name='RepCyc']/option[text()='\"+ rc+ \"']\"\n",
    "            element=driver.find_element_by_xpath(query).click()\n",
    "            \n",
    "            query = \"//select[@name='RepYr']/option[text()='\"+year+\"']\"\n",
    "            element=driver.find_element_by_xpath(query).click()\n",
    "            \n",
    "            element=driver.find_element_by_name(\"CBMRep\")\n",
    "            query = \"//input[@value='\"+cbm+\"']\"\n",
    "            element = driver.find_element_by_xpath(query).click()\n",
    "\n",
    "            driver.find_element_by_xpath(\"//input[@value='Get Status']\").click()\n",
    "            element = driver.find_element_by_class_name(\"divprime\")\n",
    "            element.get_attribute(\"id\")\n",
    "            page = element.get_attribute('innerHTML')\n",
    "            table = pd.read_html(page)\n",
    "            df =table[2][2:]\n",
    "            if len(df.columns) != 3:\n",
    "                st = 'reporting cycle: '+rc+'CBM: '+cbm,'year: '+year\n",
    "                issues.append(st)\n",
    "                break\n",
    "            df.columns = ['College','Status','Date']\n",
    "            df = df[df['College'].str.contains('The University of Texas')]\n",
    "            df = df.reset_index(drop=True)\n",
    "\n",
    "\n",
    "\n",
    "            for index, row in df.iterrows():\n",
    "                st = row['College']\n",
    "                #for sqlite you need to have the mm-dd-yyy format\n",
    "                #print('MISSING DATE ','reporting cycle: ',rc,'CBM: ',cbm,'year: ',year)\n",
    "                #print('Date is: ',row['Date'] ,\"and the type is \",type(row['Date']))\n",
    "                #date = convert_date_sqilte(row['Date'])\n",
    "                if type(row['Date']) == float:\n",
    "                    break\n",
    "                date = convert_date_sqilte(row['Date']) \n",
    "                #TEST CASE\n",
    "                #if index == 3:\n",
    "                #    date = '05/07/2008'\n",
    "\n",
    "                # if the new date is not found in the database\n",
    "                sql = 'select * from status_table where College= ? and Date= ?'\n",
    "\n",
    "                temp = pd.read_sql_query(sql,conn,params=(st,date,))\n",
    "                tqsql = 'Select * from status_table s1 where \\\n",
    "                                  Date=(select Max(Date) from status_table s2 where s1.College=s2.College) \\\n",
    "                                  and College = ?'\n",
    "                tq = pd.read_sql_query(tqsql,conn,params=(st,))\n",
    "                #print(temp)\n",
    "                #temp = pd.read_sql_query('select * from status_table where College=\"The University of Texas at Austin\"',conn)\n",
    "                # if the record is not there insert it and prepare the new_df to be send out as a notification\n",
    "                if temp.empty:\n",
    "                    #print(tq['Date'].values[0])\n",
    "                    #print(tq['Date'].strftime('%Y-%d-%m'))\n",
    "                    values = [row['College'],row['Status'],convert_date_sqilte(row['Date'])]\n",
    "                    cur.execute(\"insert into status_table values (?, ?, ?)\", values)\n",
    "                    print('Data: ',row['College'],row['Date'],row['Status'])\n",
    "                    c.append(row['College'])\n",
    "                    s.append(row['Status'])\n",
    "                    d.append(row['Date'])\n",
    "                    n.append(tq['Date'].values[0])\n",
    "                    \n",
    "dic = {'College':c,'Status':s,'Old Date':d,'New Date': n}    \n",
    "\n",
    "new_df = pd.DataFrame.from_dict(dic)\n",
    "conn.commit()\n",
    "cur.close()\n",
    "conn.close()\n",
    "driver.close()\n",
    "print(issues)\n",
    "new_df.head()"
   ]
  },
  {
   "cell_type": "code",
   "execution_count": 46,
   "metadata": {},
   "outputs": [],
   "source": [
    "#prepare the new_df for emailing\n",
    "\n",
    "new_df.columns= ['College','Status','Old Date']"
   ]
  },
  {
   "cell_type": "code",
   "execution_count": 61,
   "metadata": {},
   "outputs": [
    {
     "data": {
      "text/html": [
       "<div>\n",
       "<style scoped>\n",
       "    .dataframe tbody tr th:only-of-type {\n",
       "        vertical-align: middle;\n",
       "    }\n",
       "\n",
       "    .dataframe tbody tr th {\n",
       "        vertical-align: top;\n",
       "    }\n",
       "\n",
       "    .dataframe thead th {\n",
       "        text-align: right;\n",
       "    }\n",
       "</style>\n",
       "<table border=\"1\" class=\"dataframe\">\n",
       "  <thead>\n",
       "    <tr style=\"text-align: right;\">\n",
       "      <th></th>\n",
       "      <th>College</th>\n",
       "      <th>Status</th>\n",
       "      <th>Old Date</th>\n",
       "      <th>New Date</th>\n",
       "    </tr>\n",
       "  </thead>\n",
       "  <tbody>\n",
       "    <tr>\n",
       "      <th>0</th>\n",
       "      <td>The University of Texas-Rio Grande Valley</td>\n",
       "      <td>CERTIFIED</td>\n",
       "      <td>04/06/2015</td>\n",
       "      <td>2018-27-03</td>\n",
       "    </tr>\n",
       "    <tr>\n",
       "      <th>1</th>\n",
       "      <td>The University of Texas of the Permian Basin</td>\n",
       "      <td>CERTIFIED</td>\n",
       "      <td>08/06/2015</td>\n",
       "      <td>2018-23-07</td>\n",
       "    </tr>\n",
       "    <tr>\n",
       "      <th>2</th>\n",
       "      <td>The University of Texas-Rio Grande Valley</td>\n",
       "      <td>CERTIFIED</td>\n",
       "      <td>08/06/2015</td>\n",
       "      <td>2018-27-03</td>\n",
       "    </tr>\n",
       "    <tr>\n",
       "      <th>3</th>\n",
       "      <td>The University of Texas at El Paso</td>\n",
       "      <td>CERTIFIED</td>\n",
       "      <td>11/05/2015</td>\n",
       "      <td>2018-29-03</td>\n",
       "    </tr>\n",
       "  </tbody>\n",
       "</table>\n",
       "</div>"
      ],
      "text/plain": [
       "                                        College     Status    Old Date  \\\n",
       "0     The University of Texas-Rio Grande Valley  CERTIFIED  04/06/2015   \n",
       "1  The University of Texas of the Permian Basin  CERTIFIED  08/06/2015   \n",
       "2     The University of Texas-Rio Grande Valley  CERTIFIED  08/06/2015   \n",
       "3            The University of Texas at El Paso  CERTIFIED  11/05/2015   \n",
       "\n",
       "     New Date  \n",
       "0  2018-27-03  \n",
       "1  2018-23-07  \n",
       "2  2018-27-03  \n",
       "3  2018-29-03  "
      ]
     },
     "execution_count": 61,
     "metadata": {},
     "output_type": "execute_result"
    }
   ],
   "source": [
    "new_df.head()"
   ]
  },
  {
   "cell_type": "code",
   "execution_count": 62,
   "metadata": {},
   "outputs": [],
   "source": [
    "html = new_df.to_html()"
   ]
  },
  {
   "cell_type": "code",
   "execution_count": 63,
   "metadata": {},
   "outputs": [
    {
     "data": {
      "text/plain": [
       "'<table border=\"1\" class=\"dataframe\">\\n  <thead>\\n    <tr style=\"text-align: right;\">\\n      <th></th>\\n      <th>College</th>\\n      <th>Status</th>\\n      <th>Old Date</th>\\n      <th>New Date</th>\\n    </tr>\\n  </thead>\\n  <tbody>\\n    <tr>\\n      <th>0</th>\\n      <td>The University of Texas-Rio Grande Valley</td>\\n      <td>CERTIFIED</td>\\n      <td>04/06/2015</td>\\n      <td>2018-27-03</td>\\n    </tr>\\n    <tr>\\n      <th>1</th>\\n      <td>The University of Texas of the Permian Basin</td>\\n      <td>CERTIFIED</td>\\n      <td>08/06/2015</td>\\n      <td>2018-23-07</td>\\n    </tr>\\n    <tr>\\n      <th>2</th>\\n      <td>The University of Texas-Rio Grande Valley</td>\\n      <td>CERTIFIED</td>\\n      <td>08/06/2015</td>\\n      <td>2018-27-03</td>\\n    </tr>\\n    <tr>\\n      <th>3</th>\\n      <td>The University of Texas at El Paso</td>\\n      <td>CERTIFIED</td>\\n      <td>11/05/2015</td>\\n      <td>2018-29-03</td>\\n    </tr>\\n  </tbody>\\n</table>'"
      ]
     },
     "execution_count": 63,
     "metadata": {},
     "output_type": "execute_result"
    }
   ],
   "source": [
    "html"
   ]
  },
  {
   "cell_type": "code",
   "execution_count": 188,
   "metadata": {},
   "outputs": [],
   "source": [
    "import smtplib\n",
    "from email.mime.multipart import MIMEMultipart\n",
    "from email.mime.text import MIMEText"
   ]
  },
  {
   "cell_type": "code",
   "execution_count": 189,
   "metadata": {},
   "outputs": [],
   "source": [
    "me = \"my@email.com\"\n",
    "you = \"your@email.com\"\n",
    "\n",
    "# Create message container - the correct MIME type is multipart/alternative.\n",
    "msg = MIMEMultipart('alternative')\n",
    "msg['Subject'] = \"Link\"\n",
    "msg['From'] = me\n",
    "msg['To'] = you\n"
   ]
  },
  {
   "cell_type": "code",
   "execution_count": 64,
   "metadata": {},
   "outputs": [],
   "source": [
    "html = '<html><body>'+html+'</body></html>'"
   ]
  },
  {
   "cell_type": "code",
   "execution_count": 65,
   "metadata": {},
   "outputs": [
    {
     "data": {
      "text/plain": [
       "'<html><body><table border=\"1\" class=\"dataframe\">\\n  <thead>\\n    <tr style=\"text-align: right;\">\\n      <th></th>\\n      <th>College</th>\\n      <th>Status</th>\\n      <th>Old Date</th>\\n      <th>New Date</th>\\n    </tr>\\n  </thead>\\n  <tbody>\\n    <tr>\\n      <th>0</th>\\n      <td>The University of Texas-Rio Grande Valley</td>\\n      <td>CERTIFIED</td>\\n      <td>04/06/2015</td>\\n      <td>2018-27-03</td>\\n    </tr>\\n    <tr>\\n      <th>1</th>\\n      <td>The University of Texas of the Permian Basin</td>\\n      <td>CERTIFIED</td>\\n      <td>08/06/2015</td>\\n      <td>2018-23-07</td>\\n    </tr>\\n    <tr>\\n      <th>2</th>\\n      <td>The University of Texas-Rio Grande Valley</td>\\n      <td>CERTIFIED</td>\\n      <td>08/06/2015</td>\\n      <td>2018-27-03</td>\\n    </tr>\\n    <tr>\\n      <th>3</th>\\n      <td>The University of Texas at El Paso</td>\\n      <td>CERTIFIED</td>\\n      <td>11/05/2015</td>\\n      <td>2018-29-03</td>\\n    </tr>\\n  </tbody>\\n</table></body></html>'"
      ]
     },
     "execution_count": 65,
     "metadata": {},
     "output_type": "execute_result"
    }
   ],
   "source": [
    "body = = MIMEText(html, 'html')"
   ]
  },
  {
   "cell_type": "code",
   "execution_count": 227,
   "metadata": {},
   "outputs": [],
   "source": []
  },
  {
   "cell_type": "code",
   "execution_count": null,
   "metadata": {},
   "outputs": [],
   "source": [
    "try:\n",
    "    msg = MIMEText(content, text_subtype)\n",
    "    msg['Subject']=       subject\n",
    "    msg['From']   = sender # some SMTP servers will do this automatically, not all\n",
    "\n",
    "    conn = SMTP(SMTPserver)\n",
    "    conn.set_debuglevel(False)\n",
    "    conn.login(USERNAME, PASSWORD)\n",
    "    try:\n",
    "        conn.sendmail(sender, destination, msg.as_string())\n",
    "    finally:\n",
    "        conn.quit()\n",
    "\n",
    "except:\n",
    "    sys.exit( \"mail failed; %s\" % \"CUSTOM_ERROR\" ) # give an error message"
   ]
  },
  {
   "cell_type": "code",
   "execution_count": 193,
   "metadata": {},
   "outputs": [],
   "source": []
  },
  {
   "cell_type": "code",
   "execution_count": 194,
   "metadata": {},
   "outputs": [],
   "source": []
  },
  {
   "cell_type": "code",
   "execution_count": 195,
   "metadata": {},
   "outputs": [
    {
     "data": {
      "text/html": [
       "<div>\n",
       "<style scoped>\n",
       "    .dataframe tbody tr th:only-of-type {\n",
       "        vertical-align: middle;\n",
       "    }\n",
       "\n",
       "    .dataframe tbody tr th {\n",
       "        vertical-align: top;\n",
       "    }\n",
       "\n",
       "    .dataframe thead th {\n",
       "        text-align: right;\n",
       "    }\n",
       "</style>\n",
       "<table border=\"1\" class=\"dataframe\">\n",
       "  <thead>\n",
       "    <tr style=\"text-align: right;\">\n",
       "      <th></th>\n",
       "      <th>0</th>\n",
       "      <th>1</th>\n",
       "      <th>2</th>\n",
       "    </tr>\n",
       "  </thead>\n",
       "  <tbody>\n",
       "    <tr>\n",
       "      <th>2</th>\n",
       "      <td>Angelo State University</td>\n",
       "      <td>CERTIFIED</td>\n",
       "      <td>02/07/2018</td>\n",
       "    </tr>\n",
       "    <tr>\n",
       "      <th>3</th>\n",
       "      <td>Lamar University</td>\n",
       "      <td>CERTIFIED</td>\n",
       "      <td>04/25/2018</td>\n",
       "    </tr>\n",
       "    <tr>\n",
       "      <th>4</th>\n",
       "      <td>Midwestern State University</td>\n",
       "      <td>CERTIFIED</td>\n",
       "      <td>03/09/2018</td>\n",
       "    </tr>\n",
       "    <tr>\n",
       "      <th>5</th>\n",
       "      <td>Prairie View A&amp;M University</td>\n",
       "      <td>CERTIFIED</td>\n",
       "      <td>02/02/2018</td>\n",
       "    </tr>\n",
       "    <tr>\n",
       "      <th>6</th>\n",
       "      <td>Sam Houston State University</td>\n",
       "      <td>CERTIFIED</td>\n",
       "      <td>01/31/2018</td>\n",
       "    </tr>\n",
       "  </tbody>\n",
       "</table>\n",
       "</div>"
      ],
      "text/plain": [
       "                              0          1           2\n",
       "2       Angelo State University  CERTIFIED  02/07/2018\n",
       "3              Lamar University  CERTIFIED  04/25/2018\n",
       "4   Midwestern State University  CERTIFIED  03/09/2018\n",
       "5   Prairie View A&M University  CERTIFIED  02/02/2018\n",
       "6  Sam Houston State University  CERTIFIED  01/31/2018"
      ]
     },
     "execution_count": 195,
     "metadata": {},
     "output_type": "execute_result"
    }
   ],
   "source": []
  },
  {
   "cell_type": "code",
   "execution_count": 196,
   "metadata": {},
   "outputs": [],
   "source": [
    "df.columns = ['College','Status','Date']"
   ]
  },
  {
   "cell_type": "code",
   "execution_count": 197,
   "metadata": {},
   "outputs": [
    {
     "data": {
      "text/html": [
       "<div>\n",
       "<style scoped>\n",
       "    .dataframe tbody tr th:only-of-type {\n",
       "        vertical-align: middle;\n",
       "    }\n",
       "\n",
       "    .dataframe tbody tr th {\n",
       "        vertical-align: top;\n",
       "    }\n",
       "\n",
       "    .dataframe thead th {\n",
       "        text-align: right;\n",
       "    }\n",
       "</style>\n",
       "<table border=\"1\" class=\"dataframe\">\n",
       "  <thead>\n",
       "    <tr style=\"text-align: right;\">\n",
       "      <th></th>\n",
       "      <th>College</th>\n",
       "      <th>Status</th>\n",
       "      <th>Date</th>\n",
       "    </tr>\n",
       "  </thead>\n",
       "  <tbody>\n",
       "    <tr>\n",
       "      <th>2</th>\n",
       "      <td>Angelo State University</td>\n",
       "      <td>CERTIFIED</td>\n",
       "      <td>02/07/2018</td>\n",
       "    </tr>\n",
       "    <tr>\n",
       "      <th>3</th>\n",
       "      <td>Lamar University</td>\n",
       "      <td>CERTIFIED</td>\n",
       "      <td>04/25/2018</td>\n",
       "    </tr>\n",
       "    <tr>\n",
       "      <th>4</th>\n",
       "      <td>Midwestern State University</td>\n",
       "      <td>CERTIFIED</td>\n",
       "      <td>03/09/2018</td>\n",
       "    </tr>\n",
       "    <tr>\n",
       "      <th>5</th>\n",
       "      <td>Prairie View A&amp;M University</td>\n",
       "      <td>CERTIFIED</td>\n",
       "      <td>02/02/2018</td>\n",
       "    </tr>\n",
       "    <tr>\n",
       "      <th>6</th>\n",
       "      <td>Sam Houston State University</td>\n",
       "      <td>CERTIFIED</td>\n",
       "      <td>01/31/2018</td>\n",
       "    </tr>\n",
       "  </tbody>\n",
       "</table>\n",
       "</div>"
      ],
      "text/plain": [
       "                        College     Status        Date\n",
       "2       Angelo State University  CERTIFIED  02/07/2018\n",
       "3              Lamar University  CERTIFIED  04/25/2018\n",
       "4   Midwestern State University  CERTIFIED  03/09/2018\n",
       "5   Prairie View A&M University  CERTIFIED  02/02/2018\n",
       "6  Sam Houston State University  CERTIFIED  01/31/2018"
      ]
     },
     "execution_count": 197,
     "metadata": {},
     "output_type": "execute_result"
    }
   ],
   "source": [
    "df.head()"
   ]
  },
  {
   "cell_type": "code",
   "execution_count": 198,
   "metadata": {},
   "outputs": [],
   "source": [
    "df = df[df['College'].str.contains('The University of Texas')]"
   ]
  },
  {
   "cell_type": "code",
   "execution_count": 199,
   "metadata": {},
   "outputs": [],
   "source": [
    "df = df.reset_index(drop=True)"
   ]
  },
  {
   "cell_type": "code",
   "execution_count": 200,
   "metadata": {},
   "outputs": [
    {
     "data": {
      "text/html": [
       "<div>\n",
       "<style scoped>\n",
       "    .dataframe tbody tr th:only-of-type {\n",
       "        vertical-align: middle;\n",
       "    }\n",
       "\n",
       "    .dataframe tbody tr th {\n",
       "        vertical-align: top;\n",
       "    }\n",
       "\n",
       "    .dataframe thead th {\n",
       "        text-align: right;\n",
       "    }\n",
       "</style>\n",
       "<table border=\"1\" class=\"dataframe\">\n",
       "  <thead>\n",
       "    <tr style=\"text-align: right;\">\n",
       "      <th></th>\n",
       "      <th>College</th>\n",
       "      <th>Status</th>\n",
       "      <th>Date</th>\n",
       "    </tr>\n",
       "  </thead>\n",
       "  <tbody>\n",
       "    <tr>\n",
       "      <th>0</th>\n",
       "      <td>The University of Texas at Arlington</td>\n",
       "      <td>CERTIFIED</td>\n",
       "      <td>07/30/2018</td>\n",
       "    </tr>\n",
       "    <tr>\n",
       "      <th>1</th>\n",
       "      <td>The University of Texas at Austin</td>\n",
       "      <td>CERTIFIED</td>\n",
       "      <td>03/19/2018</td>\n",
       "    </tr>\n",
       "    <tr>\n",
       "      <th>2</th>\n",
       "      <td>The University of Texas at Dallas</td>\n",
       "      <td>CERTIFIED</td>\n",
       "      <td>06/08/2018</td>\n",
       "    </tr>\n",
       "    <tr>\n",
       "      <th>3</th>\n",
       "      <td>The University of Texas at El Paso</td>\n",
       "      <td>CERTIFIED</td>\n",
       "      <td>03/13/2018</td>\n",
       "    </tr>\n",
       "    <tr>\n",
       "      <th>4</th>\n",
       "      <td>The University of Texas at San Antonio</td>\n",
       "      <td>CERTIFIED</td>\n",
       "      <td>02/06/2018</td>\n",
       "    </tr>\n",
       "  </tbody>\n",
       "</table>\n",
       "</div>"
      ],
      "text/plain": [
       "                                  College     Status        Date\n",
       "0    The University of Texas at Arlington  CERTIFIED  07/30/2018\n",
       "1       The University of Texas at Austin  CERTIFIED  03/19/2018\n",
       "2       The University of Texas at Dallas  CERTIFIED  06/08/2018\n",
       "3      The University of Texas at El Paso  CERTIFIED  03/13/2018\n",
       "4  The University of Texas at San Antonio  CERTIFIED  02/06/2018"
      ]
     },
     "execution_count": 200,
     "metadata": {},
     "output_type": "execute_result"
    }
   ],
   "source": [
    "df.head()"
   ]
  },
  {
   "cell_type": "code",
   "execution_count": 201,
   "metadata": {},
   "outputs": [],
   "source": [
    "#Utility to convert to sqllite date\n",
    "def convert_date_sqilte(date):\n",
    "    d,m,y = date.split('/',3)\n",
    "    return y+'-'+m+'-'+d"
   ]
  },
  {
   "cell_type": "code",
   "execution_count": 202,
   "metadata": {},
   "outputs": [],
   "source": [
    "# this ned to be exeute only once\n",
    "\n",
    "\n",
    "#conn = sqlite3.connect(\"data.db\")\n",
    "#cur = conn.cursor()\n",
    "#cur.execute(\"\"\"CREATE TABLE status_table \n",
    "#        (College TEXT, Status TEXT, Date TEXT )\"\"\")\n",
    "#cur.close()\n",
    "#conn.close()"
   ]
  },
  {
   "cell_type": "markdown",
   "metadata": {},
   "source": [
    "## TODO Fix the dates from mm/dd/yyyy format to yyyy-mm-dd"
   ]
  },
  {
   "cell_type": "code",
   "execution_count": 203,
   "metadata": {},
   "outputs": [
    {
     "name": "stdout",
     "output_type": "stream",
     "text": [
      "Series([], Name: College, dtype: object)\n",
      "Series([], Name: College, dtype: object)\n",
      "Series([], Name: College, dtype: object)\n",
      "Series([], Name: College, dtype: object)\n",
      "Series([], Name: College, dtype: object)\n",
      "Series([], Name: College, dtype: object)\n",
      "Series([], Name: College, dtype: object)\n",
      "Series([], Name: College, dtype: object)\n"
     ]
    },
    {
     "data": {
      "text/html": [
       "<div>\n",
       "<style scoped>\n",
       "    .dataframe tbody tr th:only-of-type {\n",
       "        vertical-align: middle;\n",
       "    }\n",
       "\n",
       "    .dataframe tbody tr th {\n",
       "        vertical-align: top;\n",
       "    }\n",
       "\n",
       "    .dataframe thead th {\n",
       "        text-align: right;\n",
       "    }\n",
       "</style>\n",
       "<table border=\"1\" class=\"dataframe\">\n",
       "  <thead>\n",
       "    <tr style=\"text-align: right;\">\n",
       "      <th></th>\n",
       "      <th>0</th>\n",
       "      <th>1</th>\n",
       "      <th>2</th>\n",
       "      <th>3</th>\n",
       "      <th>4</th>\n",
       "      <th>5</th>\n",
       "      <th>6</th>\n",
       "      <th>7</th>\n",
       "    </tr>\n",
       "  </thead>\n",
       "  <tbody>\n",
       "    <tr>\n",
       "      <th>College</th>\n",
       "      <td>The University of Texas at Arlington</td>\n",
       "      <td>The University of Texas at Austin</td>\n",
       "      <td>The University of Texas at Dallas</td>\n",
       "      <td>The University of Texas at El Paso</td>\n",
       "      <td>The University of Texas at San Antonio</td>\n",
       "      <td>The University of Texas at Tyler</td>\n",
       "      <td>The University of Texas of the Permian Basin</td>\n",
       "      <td>The University of Texas-Rio Grande Valley</td>\n",
       "    </tr>\n",
       "    <tr>\n",
       "      <th>Status</th>\n",
       "      <td>CERTIFIED</td>\n",
       "      <td>CERTIFIED</td>\n",
       "      <td>CERTIFIED</td>\n",
       "      <td>CERTIFIED</td>\n",
       "      <td>CERTIFIED</td>\n",
       "      <td>CERTIFIED</td>\n",
       "      <td>CERTIFIED</td>\n",
       "      <td>CERTIFIED</td>\n",
       "    </tr>\n",
       "    <tr>\n",
       "      <th>Date</th>\n",
       "      <td>07/30/2018</td>\n",
       "      <td>03/19/2018</td>\n",
       "      <td>06/08/2018</td>\n",
       "      <td>03/13/2018</td>\n",
       "      <td>02/06/2018</td>\n",
       "      <td>03/14/2018</td>\n",
       "      <td>07/23/2018</td>\n",
       "      <td>04/12/2018</td>\n",
       "    </tr>\n",
       "  </tbody>\n",
       "</table>\n",
       "</div>"
      ],
      "text/plain": [
       "                                            0  \\\n",
       "College  The University of Texas at Arlington   \n",
       "Status                              CERTIFIED   \n",
       "Date                               07/30/2018   \n",
       "\n",
       "                                         1                                  2  \\\n",
       "College  The University of Texas at Austin  The University of Texas at Dallas   \n",
       "Status                           CERTIFIED                          CERTIFIED   \n",
       "Date                            03/19/2018                         06/08/2018   \n",
       "\n",
       "                                          3  \\\n",
       "College  The University of Texas at El Paso   \n",
       "Status                            CERTIFIED   \n",
       "Date                             03/13/2018   \n",
       "\n",
       "                                              4  \\\n",
       "College  The University of Texas at San Antonio   \n",
       "Status                                CERTIFIED   \n",
       "Date                                 02/06/2018   \n",
       "\n",
       "                                        5  \\\n",
       "College  The University of Texas at Tyler   \n",
       "Status                          CERTIFIED   \n",
       "Date                           03/14/2018   \n",
       "\n",
       "                                                    6  \\\n",
       "College  The University of Texas of the Permian Basin   \n",
       "Status                                      CERTIFIED   \n",
       "Date                                       07/23/2018   \n",
       "\n",
       "                                                 7  \n",
       "College  The University of Texas-Rio Grande Valley  \n",
       "Status                                   CERTIFIED  \n",
       "Date                                    04/12/2018  "
      ]
     },
     "execution_count": 203,
     "metadata": {},
     "output_type": "execute_result"
    }
   ],
   "source": []
  },
  {
   "cell_type": "code",
   "execution_count": 27,
   "metadata": {},
   "outputs": [
    {
     "data": {
      "text/html": [
       "<div>\n",
       "<style scoped>\n",
       "    .dataframe tbody tr th:only-of-type {\n",
       "        vertical-align: middle;\n",
       "    }\n",
       "\n",
       "    .dataframe tbody tr th {\n",
       "        vertical-align: top;\n",
       "    }\n",
       "\n",
       "    .dataframe thead th {\n",
       "        text-align: right;\n",
       "    }\n",
       "</style>\n",
       "<table border=\"1\" class=\"dataframe\">\n",
       "  <thead>\n",
       "    <tr style=\"text-align: right;\">\n",
       "      <th></th>\n",
       "      <th>College</th>\n",
       "      <th>Status</th>\n",
       "      <th>Date</th>\n",
       "    </tr>\n",
       "  </thead>\n",
       "  <tbody>\n",
       "    <tr>\n",
       "      <th>0</th>\n",
       "      <td>The University of Texas at Arlington</td>\n",
       "      <td>CERTIFIED</td>\n",
       "      <td>2018-30-07</td>\n",
       "    </tr>\n",
       "    <tr>\n",
       "      <th>1</th>\n",
       "      <td>The University of Texas at Tyler</td>\n",
       "      <td>CERTIFIED</td>\n",
       "      <td>2018-14-03</td>\n",
       "    </tr>\n",
       "    <tr>\n",
       "      <th>2</th>\n",
       "      <td>The University of Texas of the Permian Basin</td>\n",
       "      <td>CERTIFIED</td>\n",
       "      <td>2018-23-07</td>\n",
       "    </tr>\n",
       "    <tr>\n",
       "      <th>3</th>\n",
       "      <td>The University of Texas at Dallas</td>\n",
       "      <td>CERTIFIED</td>\n",
       "      <td>2018-30-01</td>\n",
       "    </tr>\n",
       "    <tr>\n",
       "      <th>4</th>\n",
       "      <td>The University of Texas at Austin</td>\n",
       "      <td>CERTIFIED</td>\n",
       "      <td>2018-27-03</td>\n",
       "    </tr>\n",
       "    <tr>\n",
       "      <th>5</th>\n",
       "      <td>The University of Texas at El Paso</td>\n",
       "      <td>CERTIFIED</td>\n",
       "      <td>2018-29-03</td>\n",
       "    </tr>\n",
       "    <tr>\n",
       "      <th>6</th>\n",
       "      <td>The University of Texas at San Antonio</td>\n",
       "      <td>CERTIFIED</td>\n",
       "      <td>2018-20-03</td>\n",
       "    </tr>\n",
       "    <tr>\n",
       "      <th>7</th>\n",
       "      <td>The University of Texas-Rio Grande Valley</td>\n",
       "      <td>CERTIFIED</td>\n",
       "      <td>2018-27-03</td>\n",
       "    </tr>\n",
       "  </tbody>\n",
       "</table>\n",
       "</div>"
      ],
      "text/plain": [
       "                                        College     Status        Date\n",
       "0          The University of Texas at Arlington  CERTIFIED  2018-30-07\n",
       "1              The University of Texas at Tyler  CERTIFIED  2018-14-03\n",
       "2  The University of Texas of the Permian Basin  CERTIFIED  2018-23-07\n",
       "3             The University of Texas at Dallas  CERTIFIED  2018-30-01\n",
       "4             The University of Texas at Austin  CERTIFIED  2018-27-03\n",
       "5            The University of Texas at El Paso  CERTIFIED  2018-29-03\n",
       "6        The University of Texas at San Antonio  CERTIFIED  2018-20-03\n",
       "7     The University of Texas-Rio Grande Valley  CERTIFIED  2018-27-03"
      ]
     },
     "execution_count": 27,
     "metadata": {},
     "output_type": "execute_result"
    }
   ],
   "source": [
    "conn = sqlite3.connect(\"data.db\")\n",
    "cur = conn.cursor()\n",
    "pd.read_sql_query('Select * from status_table s1 where Date=(select Max(Date) from status_table s2 where s1.College=s2.College)',conn)\n"
   ]
  },
  {
   "cell_type": "code",
   "execution_count": null,
   "metadata": {},
   "outputs": [],
   "source": []
  },
  {
   "cell_type": "code",
   "execution_count": null,
   "metadata": {},
   "outputs": [],
   "source": []
  },
  {
   "cell_type": "code",
   "execution_count": null,
   "metadata": {},
   "outputs": [],
   "source": []
  },
  {
   "cell_type": "code",
   "execution_count": null,
   "metadata": {},
   "outputs": [],
   "source": []
  },
  {
   "cell_type": "code",
   "execution_count": null,
   "metadata": {},
   "outputs": [],
   "source": []
  },
  {
   "cell_type": "code",
   "execution_count": null,
   "metadata": {},
   "outputs": [],
   "source": []
  }
 ],
 "metadata": {
  "kernelspec": {
   "display_name": "Python 3",
   "language": "python",
   "name": "python3"
  },
  "language_info": {
   "codemirror_mode": {
    "name": "ipython",
    "version": 3
   },
   "file_extension": ".py",
   "mimetype": "text/x-python",
   "name": "python",
   "nbconvert_exporter": "python",
   "pygments_lexer": "ipython3",
   "version": "3.6.5"
  }
 },
 "nbformat": 4,
 "nbformat_minor": 2
}
