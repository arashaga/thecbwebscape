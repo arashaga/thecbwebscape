{
 "cells": [
  {
   "cell_type": "code",
   "execution_count": 9,
   "metadata": {},
   "outputs": [],
   "source": [
    "import pandas as pd\n",
    "import sqlite3\n",
    "from selenium import webdriver\n",
    "import math\n",
    "from email.mime.multipart import MIMEMultipart\n",
    "import sys\n",
    "from email.mime.text import MIMEText\n",
    "import smtplib"
   ]
  },
  {
   "cell_type": "markdown",
   "metadata": {},
   "source": [
    "## <font color=Red>Instruction</font>\n",
    "\n",
    "\n",
    "- <font color=blue> Create the Sqlite database by executing the followinf script only once</font>\n",
    "-  <font color=blue>Verify the email settings in sendmail functions ( incase you need to change the email)</font>\n",
    "- <font color=blue> Package the code in a py script and add it to the scheduler</font>\n"
   ]
  },
  {
   "cell_type": "code",
   "execution_count": null,
   "metadata": {},
   "outputs": [],
   "source": []
  },
  {
   "cell_type": "code",
   "execution_count": 2,
   "metadata": {},
   "outputs": [],
   "source": [
    "# this ned to be exeute only once\n",
    "\n",
    "\n",
    "#conn = sqlite3.connect(\"data.db\")\n",
    "#cur = conn.cursor()\n",
    "#cur.execute(\"\"\"CREATE TABLE status_table \n",
    "#        (College TEXT, Status TEXT, Date TEXT )\"\"\")\n",
    "#cur.close()\n",
    "#conn.close()"
   ]
  },
  {
   "cell_type": "code",
   "execution_count": null,
   "metadata": {},
   "outputs": [],
   "source": []
  },
  {
   "cell_type": "code",
   "execution_count": null,
   "metadata": {},
   "outputs": [],
   "source": []
  },
  {
   "cell_type": "code",
   "execution_count": 5,
   "metadata": {},
   "outputs": [],
   "source": [
    "#utility functions\n",
    "def convert_date_sqilte(date):\n",
    "    d,m,y = date.split('/',3)\n",
    "    return y+'-'+m+'-'+d\n",
    "\n",
    "reporting_cycle = ['Spring','Fall/Annual','Summer/Summer I']\n",
    "CBMS = ['CBM001','CBM004','CBM008','CBM00S','CBM009','CBM0E1','CBM00B','FAD001']\n",
    "years = ['2015','2016','2017']\n",
    "\n",
    "def sendemail(Status):\n",
    "    if Status:\n",
    "        part1 = '<h2 style=\"text-align: center;\">Summary of THECB Bot</h2><p>New changes to THECB certification dates:</p>'\n",
    "    else:\n",
    "        part1 = '<h2 style=\"text-align: center;\">Summary of THECB Bot</h2><p>There are no changes to certification dates.</p>'\n",
    "        \n",
    "    html = new_df.to_html()\n",
    "    html = part1 +html\n",
    "    body = MIMEText(html, 'html')\n",
    "\n",
    "    me=\"THCB WEBSCRAPER <amosharraf@utsystem.edu>\"\n",
    "    recipients  = [\"arashaga@gmail.com\",\"amosharraf@utsystem.edu\"]\n",
    "\n",
    "    try:\n",
    "\n",
    "        msg = MIMEMultipart('alternative')\n",
    "        msg.attach(body)\n",
    "        msg['Subject']= 'Hi'\n",
    "        msg['From']   = me # some SMTP servers will do this automatically, not all\n",
    "        msg['to'] = \", \".join(recipients)\n",
    "\n",
    "        conn = smtplib.SMTP('outlook.utsystem.edu',25)\n",
    "        conn.set_debuglevel(1)\n",
    "\n",
    "        conn.sendmail(me,recipients, msg.as_string())\n",
    "        conn.quit()\n",
    "\n",
    "    except:\n",
    "        sys.exit( \"mail failed; %s\" % \"CUSTOM_ERROR\" ) \n",
    "        conn.quit() # give an error message"
   ]
  },
  {
   "cell_type": "code",
   "execution_count": 6,
   "metadata": {},
   "outputs": [
    {
     "name": "stdout",
     "output_type": "stream",
     "text": [
      "[('reporting cycle: SpringCBM: CBM009', 'year: 2015'), ('reporting cycle: SpringCBM: CBM009', 'year: 2016'), ('reporting cycle: SpringCBM: CBM009', 'year: 2017'), ('reporting cycle: Summer/Summer ICBM: CBM009', 'year: 2015'), ('reporting cycle: Summer/Summer ICBM: CBM009', 'year: 2016'), ('reporting cycle: Summer/Summer ICBM: CBM009', 'year: 2017')]\n"
     ]
    },
    {
     "ename": "SystemExit",
     "evalue": "mail failed; CUSTOM_ERROR",
     "output_type": "error",
     "traceback": [
      "An exception has occurred, use %tb to see the full traceback.\n",
      "\u001b[1;31mSystemExit\u001b[0m\u001b[1;31m:\u001b[0m mail failed; CUSTOM_ERROR\n"
     ]
    },
    {
     "name": "stderr",
     "output_type": "stream",
     "text": [
      "C:\\Users\\amosharrafolnolk\\AppData\\Local\\Continuum\\anaconda3\\lib\\site-packages\\IPython\\core\\interactiveshell.py:2971: UserWarning: To exit: use 'exit', 'quit', or Ctrl-D.\n",
      "  warn(\"To exit: use 'exit', 'quit', or Ctrl-D.\", stacklevel=1)\n"
     ]
    }
   ],
   "source": [
    "driver = webdriver.Chrome(executable_path=\"c:/chromedriver.exe\")\n",
    "new_df = None\n",
    "issues = []\n",
    "c = []\n",
    "d = []\n",
    "s = []\n",
    "n = []\n",
    "conn = sqlite3.connect(\"data.db\")\n",
    "cur = conn.cursor()\n",
    "for rc in reporting_cycle:\n",
    "    for year in years:\n",
    "        for cbm in CBMS:\n",
    "            driver.get(\"http://www.txhighereddata.org/Interactive/CBMStatus\")\n",
    "            query = \"//select[@name='RepCyc']/option[text()='\"+ rc+ \"']\"\n",
    "            element=driver.find_element_by_xpath(query).click()\n",
    "            \n",
    "            query = \"//select[@name='RepYr']/option[text()='\"+year+\"']\"\n",
    "            element=driver.find_element_by_xpath(query).click()\n",
    "            \n",
    "            element=driver.find_element_by_name(\"CBMRep\")\n",
    "            query = \"//input[@value='\"+cbm+\"']\"\n",
    "            element = driver.find_element_by_xpath(query).click()\n",
    "\n",
    "            driver.find_element_by_xpath(\"//input[@value='Get Status']\").click()\n",
    "            element = driver.find_element_by_class_name(\"divprime\")\n",
    "            element.get_attribute(\"id\")\n",
    "            page = element.get_attribute('innerHTML')\n",
    "            table = pd.read_html(page)\n",
    "            df =table[2][2:]\n",
    "            if len(df.columns) != 3:\n",
    "                st = 'reporting cycle: '+rc+'CBM: '+cbm,'year: '+year\n",
    "                issues.append(st)\n",
    "                break\n",
    "            df.columns = ['College','Status','Date']\n",
    "            df = df[df['College'].str.contains('The University of Texas')]\n",
    "            df = df.reset_index(drop=True)\n",
    "\n",
    "\n",
    "\n",
    "            for index, row in df.iterrows():\n",
    "                st = row['College']\n",
    "                #for sqlite you need to have the mm-dd-yyy format\n",
    "                #print('MISSING DATE ','reporting cycle: ',rc,'CBM: ',cbm,'year: ',year)\n",
    "                if type(row['Date']) == float:\n",
    "                    break\n",
    "                date = convert_date_sqilte(row['Date']) \n",
    "                #TEST CASE\n",
    "                #if index == 3:\n",
    "                #    date = '05/07/2008'\n",
    "\n",
    "                # if the new date is not found in the database\n",
    "                sql = 'select * from status_table where College= ? and Date= ?'\n",
    "\n",
    "                temp = pd.read_sql_query(sql,conn,params=(st,date,))\n",
    "                tqsql = 'Select * from status_table s1 where \\\n",
    "                                  Date=(select Max(Date) from status_table s2 where s1.College=s2.College) \\\n",
    "                                  and College = ?'\n",
    "                tq = pd.read_sql_query(tqsql,conn,params=(st,))\n",
    "                \n",
    "                # if the record is not there insert it and prepare the new_df to be send out as a notification\n",
    "                if temp.empty:\n",
    "                    values = [row['College'],row['Status'],convert_date_sqilte(row['Date'])]\n",
    "                    cur.execute(\"insert into status_table values (?, ?, ?)\", values)\n",
    "                    print('Data: ',row['College'],row['Date'],row['Status'])\n",
    "                    c.append(row['College'])\n",
    "                    s.append(row['Status'])\n",
    "                    d.append(row['Date'])\n",
    "                    if not tq.empty:\n",
    "                        n.append(tq['Date'].values[0])\n",
    "                    else:\n",
    "                        n.append(None)\n",
    "                    \n",
    "dic = {'College':c,'Status':s,'New Date':d,'Old Date': n}    \n",
    "\n",
    "new_df = pd.DataFrame.from_dict(dic)\n",
    "conn.commit()\n",
    "cur.close()\n",
    "conn.close()\n",
    "driver.close()\n",
    "print(issues)\n",
    "if new_df.empty:\n",
    "    sendemail(False)\n",
    "else:\n",
    "    sendemail(True)"
   ]
  },
  {
   "cell_type": "code",
   "execution_count": null,
   "metadata": {},
   "outputs": [],
   "source": []
  }
 ],
 "metadata": {
  "kernelspec": {
   "display_name": "Python 3",
   "language": "python",
   "name": "python3"
  },
  "language_info": {
   "codemirror_mode": {
    "name": "ipython",
    "version": 3
   },
   "file_extension": ".py",
   "mimetype": "text/x-python",
   "name": "python",
   "nbconvert_exporter": "python",
   "pygments_lexer": "ipython3",
   "version": "3.6.5"
  }
 },
 "nbformat": 4,
 "nbformat_minor": 2
}
